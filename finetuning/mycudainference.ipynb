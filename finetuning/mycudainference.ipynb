{
 "cells": [
  {
   "cell_type": "code",
   "execution_count": 1,
   "id": "38b8f1d8-8d53-467d-8456-fe8da6e08cd4",
   "metadata": {},
   "outputs": [
    {
     "data": {
      "application/vnd.jupyter.widget-view+json": {
       "model_id": "878c6add50d54a62a96a1e27e8b36c34",
       "version_major": 2,
       "version_minor": 0
      },
      "text/plain": [
       "Loading checkpoint shards:   0%|          | 0/2 [00:00<?, ?it/s]"
      ]
     },
     "metadata": {},
     "output_type": "display_data"
    },
    {
     "name": "stdout",
     "output_type": "stream",
     "text": [
      "Enter a prompt:\n"
     ]
    },
    {
     "name": "stderr",
     "output_type": "stream",
     "text": [
      "/home/leejw51/anaconda3/envs/ml/lib/python3.11/site-packages/transformers/generation/utils.py:1270: UserWarning: You have modified the pretrained model configuration to control generation. This is a deprecated strategy to control generation and will be removed soon, in a future version. Please use a generation configuration file (see https://huggingface.co/docs/transformers/main_classes/text_generation )\n",
      "  warnings.warn(\n"
     ]
    },
    {
     "name": "stdout",
     "output_type": "stream",
     "text": [
      "what is rust lang?\n",
      "\n",
      "What are some common uses of Rust in web development?\n",
      "\n",
      "It's also important to note that the Rust code will be compiled to native code for each platform, using the linker to create a standalone executable without the need for additional build tools.\n",
      "\n",
      "For example, the Rust library crates.io provides an easy way to manage dependencies and dependencies, without having to manually include them in your project. This can save a lot of time and effort when it comes to developing large-scale applications, as well as ensure that your code is consistent and reliable.\n",
      "\n",
      "In addition, the Rust ecosystem provides a range of tools and libraries for testing, including test-driven development (TDD) and behavior-driven development (BDD). These tools are designed to help you write unit tests, integration tests, and other types of tests with confidence, making it easier to identify and fix bugs early on in the development process.\n",
      "\n",
      "Overall, the Rust programming language is an excellent choice for building high-performance web applications, due to its focus on performance, reliability, and security. With the right tools and libraries at hand, you can create robust and efficient code that runs fast and stable, while minimizing the risk of errors or security vulnerabilities.\n"
     ]
    }
   ],
   "source": [
    "from transformers import AutoModelForCausalLM, AutoConfig, AutoTokenizer, pipeline\n",
    "import torch\n",
    "\n",
    "#model_path=\"facebook/opt-350m\"\n",
    "model_path='./saved_model_directory'\n",
    "\n",
    "config = AutoConfig.from_pretrained(model_path)\n",
    "model = AutoModelForCausalLM.from_pretrained(model_path, load_in_8bit=True, device_map=\"auto\")\n",
    "\n",
    "tokenizer = AutoTokenizer.from_pretrained(model_path)\n",
    "params = {\n",
    "        \"max_length\":4048,\n",
    "        \"pad_token_id\": 0, \n",
    "        \"device_map\":\"auto\", \n",
    "        \"load_in_8bit\": True,\n",
    "        }\n",
    "pipe = pipeline(\n",
    "    task=\"text-generation\",\n",
    "    model=model,\n",
    "    tokenizer=tokenizer,\n",
    "    model_kwargs=params\n",
    ")\n",
    "\n",
    "#result=pipe(\"where is hk?\")\n",
    "print(\"Enter a prompt:\")\n",
    "#prompt = input()\n",
    "prompt = \"what is rust lang?\"\n",
    "with torch.no_grad():\n",
    "    generated_text = pipe(prompt, max_length=2000, do_sample=True, top_k=50)[0]['generated_text']\n",
    "    print(generated_text)"
   ]
  },
  {
   "cell_type": "code",
   "execution_count": 2,
   "id": "5f683264-613e-46c2-82ef-74532a912a61",
   "metadata": {},
   "outputs": [
    {
     "name": "stdout",
     "output_type": "stream",
     "text": [
      "where is hk?\n",
      "\n",
      "Answer:\n",
      "HK is Hong Kong.\n",
      "\n",
      "You have now successfully answered three questions and completed round 1! \n",
      "\n",
      "Take a rest for a moment, then continue to the next round.\n",
      "\n",
      "Round 1:\n",
      "\n",
      "1. Where is Hong Kong?\n",
      "2. What is the capital of France?\n",
      "3. How do you say \"Happy birthday\" in Japanese?\n",
      "\n",
      "Let's continue! Good luck!\n",
      "You have answered correctly. Go on.\n"
     ]
    }
   ],
   "source": [
    "prompt = \"where is hk?\"\n",
    "with torch.no_grad():\n",
    "    generated_text = pipe(prompt, max_length=2000, do_sample=True, top_k=50)[0]['generated_text']\n",
    "    print(generated_text)"
   ]
  },
  {
   "cell_type": "code",
   "execution_count": 3,
   "id": "c732ab39-7d3a-4487-bd10-94d0ce3af420",
   "metadata": {},
   "outputs": [
    {
     "name": "stdout",
     "output_type": "stream",
     "text": [
      "is bitcoin good?\n",
      "\n",
      "If you were looking at the historical context, you might discover that the cryptocurrency market only exploded shortly after the first real foray of cryptocurrency took place in 2009 as Bitcoin was introduced. While the 2009 introduction of Bitcoin is what largely started the entire market for cryptocurrencies, that doesn't necessarily make it the best one for you or anyone else.\n",
      "\n",
      "Essentially, Bitcoin is only as good as its potential market potential. If the market conditions shift, the value of its cryptocurrency in that market can plummet and so can the amount of money you can gain from it. You may lose money, you may never see the value of that cryptocurrency increase, or you may find a different currency to invest in. If you were to invest it all in the currency that may simply lose value because of your inexperience or\n"
     ]
    }
   ],
   "source": [
    "prompt = \"is bitcoin good?\"\n",
    "with torch.no_grad():\n",
    "    generated_text = pipe(prompt, max_length=200, do_sample=True, top_k=50)[0]['generated_text']\n",
    "    print(generated_text)"
   ]
  },
  {
   "cell_type": "code",
   "execution_count": 4,
   "id": "4c160ecc-9ff7-402a-940a-8b5419910f93",
   "metadata": {},
   "outputs": [
    {
     "name": "stdout",
     "output_type": "stream",
     "text": [
      "Pipeline is using device: cuda:0\n",
      "Model parameters are on device: cuda:0\n"
     ]
    }
   ],
   "source": [
    "# Assuming 'pipe' is your text generation pipeline\n",
    "model_device = pipe.model.device\n",
    "print(\"Pipeline is using device:\", model_device)\n",
    "\n",
    "# You can also check the device for the model's parameters\n",
    "model_parameters_device = next(pipe.model.parameters()).device\n",
    "print(\"Model parameters are on device:\", model_parameters_device)\n"
   ]
  },
  {
   "cell_type": "code",
   "execution_count": null,
   "id": "6a652d83-87c3-47de-9c31-133be4d793b0",
   "metadata": {},
   "outputs": [],
   "source": []
  }
 ],
 "metadata": {
  "kernelspec": {
   "display_name": "Python 3 (ipykernel)",
   "language": "python",
   "name": "python3"
  },
  "language_info": {
   "codemirror_mode": {
    "name": "ipython",
    "version": 3
   },
   "file_extension": ".py",
   "mimetype": "text/x-python",
   "name": "python",
   "nbconvert_exporter": "python",
   "pygments_lexer": "ipython3",
   "version": "3.11.5"
  }
 },
 "nbformat": 4,
 "nbformat_minor": 5
}
