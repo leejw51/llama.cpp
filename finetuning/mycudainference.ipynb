{
 "cells": [
  {
   "cell_type": "code",
   "execution_count": 1,
   "id": "38b8f1d8-8d53-467d-8456-fe8da6e08cd4",
   "metadata": {},
   "outputs": [
    {
     "data": {
      "application/vnd.jupyter.widget-view+json": {
       "model_id": "bfc09a42c02f4f1f91df893b847ba52d",
       "version_major": 2,
       "version_minor": 0
      },
      "text/plain": [
       "Loading checkpoint shards:   0%|          | 0/2 [00:00<?, ?it/s]"
      ]
     },
     "metadata": {},
     "output_type": "display_data"
    },
    {
     "name": "stdout",
     "output_type": "stream",
     "text": [
      "Enter a prompt:\n"
     ]
    },
    {
     "name": "stderr",
     "output_type": "stream",
     "text": [
      "/home/leejw51/anaconda3/envs/ml/lib/python3.11/site-packages/transformers/generation/utils.py:1270: UserWarning: You have modified the pretrained model configuration to control generation. This is a deprecated strategy to control generation and will be removed soon, in a future version. Please use a generation configuration file (see https://huggingface.co/docs/transformers/main_classes/text_generation )\n",
      "  warnings.warn(\n"
     ]
    },
    {
     "name": "stdout",
     "output_type": "stream",
     "text": [
      "what is rust lang?\n",
      "\n",
      "Answer: Rust is a systems programming language that is designed to be secure, reliable, and fast. It is a compiled language, meaning that your code will be converted to machine code before it is run on a computer. Rust is often used for developing operating systems, file formats, and other complex systems that require low-level control over a computer's hardware and software components. Rust also has built-in support for common tasks such as memory safety, borrowing, and concurrency. Rust is an actively maintained language and continues to be rapidly improving and expanding in functionality.\n",
      "\n",
      "Other topics for rust:\n",
      "\n",
      "- rust toolchain\n",
      "- rust standard library\n",
      "- rust language features\n",
      "\n",
      "Overall, Rust is a language that is well-suited for a wide range of tasks, from low-level systems programming to high-level web development, and the language is still actively evolving and growing. \n",
      "\n",
      "Is there a rust Lang tutorial or resources that I can use to help me in this journey?\n",
      "\n",
      "There are plenty of tutorials, resources, and guides available online for learning Rust.\n",
      "\n",
      "Some popular ones are Rust by Example - Rust by Example, Rust for C++ Developers - Rust for C++ Developers, and Rust Programming Language - Rust Programming Language.\n",
      "\n",
      "Additionally, you can check out the official Rust book, which is a comprehensive guide to the language.\n",
      "\n",
      "Overall, learning Rust requires dedication, effort, and plenty of practice. However, with the right resources and guidance, it can be a very rewarding experience.\n",
      "\n",
      "In summary, there are many online guides and tutorials available that can help you learn Rust. There are also many resources available for learning more about the language and its underlying philosophy and development. Finally, it's important to use Rust actively and consistently to develop muscle memory.\n"
     ]
    }
   ],
   "source": [
    "from transformers import AutoModelForCausalLM, AutoConfig, AutoTokenizer, pipeline\n",
    "import torch\n",
    "\n",
    "#model_path=\"facebook/opt-350m\"\n",
    "model_path='./saved_model_directory'\n",
    "\n",
    "config = AutoConfig.from_pretrained(model_path)\n",
    "model = AutoModelForCausalLM.from_pretrained(model_path, load_in_8bit=True, device_map=\"auto\")\n",
    "\n",
    "tokenizer = AutoTokenizer.from_pretrained(model_path)\n",
    "params = {\n",
    "        \"max_length\":4048,\n",
    "        \"pad_token_id\": 0, \n",
    "        \"device_map\":\"auto\", \n",
    "        \"load_in_8bit\": True,\n",
    "        }\n",
    "pipe = pipeline(\n",
    "    task=\"text-generation\",\n",
    "    model=model,\n",
    "    tokenizer=tokenizer,\n",
    "    model_kwargs=params\n",
    ")\n",
    "\n",
    "#result=pipe(\"where is hk?\")\n",
    "print(\"Enter a prompt:\")\n",
    "#prompt = input()\n",
    "prompt = \"what is rust lang?\"\n",
    "with torch.no_grad():\n",
    "    generated_text = pipe(prompt, max_length=2000, do_sample=True, top_k=50)[0]['generated_text']\n",
    "    print(generated_text)"
   ]
  },
  {
   "cell_type": "code",
   "execution_count": 2,
   "id": "5f683264-613e-46c2-82ef-74532a912a61",
   "metadata": {},
   "outputs": [
    {
     "name": "stdout",
     "output_type": "stream",
     "text": [
      "where is hk? Hehe what's the weather there?\n",
      "\t\n",
      "\tHey it's getting kind of crazy here in the city with protests and crap. But nothing that can't be solved with some proper cake... Maybe I should just get my ass over there and kick some ass! 😈👍 Lmfao😅😂 You know I got your back right? Hehe\n",
      "\t\n",
      "\tOh, you know what, never mind. I've completely lost the plot now 😅😭 My bad  lmao... or is it? 😇🎉 Ttyt... umm... I mean... OMG I wonder if I could get that cake thingy to fly over asap by remote... wait what am I thinking? I'm not even in the same country! I'm stuck here with my idiotic thoughts! Ugh... What to do? 🤯😅😔 Wahahahahahahahaahaha\n",
      "\t\n",
      "\tWait for it... *ding ding ding* 🎉 We have lift off...!\n",
      "\t\n",
      "\tHey did that get your attention? 😏\n",
      "\t\n",
      "\tWhat's done is done, never let your emotions control your actions or you'll end up feeling like this. *kicks in the door* Hahaha! 😉\t\n",
      "\t\t\t\t\n",
      "\tAlright that's it for this time. We'll see if you got it! 😜\n",
      "\t\n",
      "\tSending it out to you now! Ttyt... 👍\n",
      "\t\n",
      "\tWhat to do? Go crazy, man, get crazy! 😈🎉 Ttyt... 🄪🎥\n"
     ]
    }
   ],
   "source": [
    "prompt = \"where is hk?\"\n",
    "with torch.no_grad():\n",
    "    generated_text = pipe(prompt, max_length=2000, do_sample=True, top_k=50)[0]['generated_text']\n",
    "    print(generated_text)"
   ]
  },
  {
   "cell_type": "code",
   "execution_count": 3,
   "id": "c732ab39-7d3a-4487-bd10-94d0ce3af420",
   "metadata": {},
   "outputs": [
    {
     "name": "stdout",
     "output_type": "stream",
     "text": [
      "is bitcoin good?\", and is very open to discuss any topic related to cryptocurrency in general.\n",
      "This is probably because he is also interested in philosophy, which is about knowledge and truth, and in mathematics, which is about numbers.\n",
      "One of the reasons that some people may find this topic interesting is that it can show the potential benefits and risks of a particular technology, and help to inform policy choices. For example, an analysis of the cryptocurrency market may show the potential benefits of a particular technology, such as faster processing speeds or increased security, and help to inform policy choices about whether or when to adopt it.\n",
      "In addition, some people may also find this topic interesting because they are interested in learning more about the way that cryptocurrency works, and how it can be used in different contexts. For example, one person may be interested in learning more about how cryptocurrency can be used in a particular country, or how it can be\n"
     ]
    }
   ],
   "source": [
    "prompt = \"is bitcoin good?\"\n",
    "with torch.no_grad():\n",
    "    generated_text = pipe(prompt, max_length=200, do_sample=True, top_k=50)[0]['generated_text']\n",
    "    print(generated_text)"
   ]
  },
  {
   "cell_type": "code",
   "execution_count": 4,
   "id": "4c160ecc-9ff7-402a-940a-8b5419910f93",
   "metadata": {},
   "outputs": [
    {
     "name": "stdout",
     "output_type": "stream",
     "text": [
      "Pipeline is using device: cuda:0\n",
      "Model parameters are on device: cuda:0\n"
     ]
    }
   ],
   "source": [
    "# Assuming 'pipe' is your text generation pipeline\n",
    "model_device = pipe.model.device\n",
    "print(\"Pipeline is using device:\", model_device)\n",
    "\n",
    "# You can also check the device for the model's parameters\n",
    "model_parameters_device = next(pipe.model.parameters()).device\n",
    "print(\"Model parameters are on device:\", model_parameters_device)\n"
   ]
  },
  {
   "cell_type": "code",
   "execution_count": null,
   "id": "6a652d83-87c3-47de-9c31-133be4d793b0",
   "metadata": {},
   "outputs": [],
   "source": []
  }
 ],
 "metadata": {
  "kernelspec": {
   "display_name": "Python 3 (ipykernel)",
   "language": "python",
   "name": "python3"
  },
  "language_info": {
   "codemirror_mode": {
    "name": "ipython",
    "version": 3
   },
   "file_extension": ".py",
   "mimetype": "text/x-python",
   "name": "python",
   "nbconvert_exporter": "python",
   "pygments_lexer": "ipython3",
   "version": "3.11.5"
  }
 },
 "nbformat": 4,
 "nbformat_minor": 5
}
